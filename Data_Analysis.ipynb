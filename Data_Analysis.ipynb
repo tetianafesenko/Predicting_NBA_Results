{
 "cells": [
  {
   "cell_type": "code",
   "execution_count": null,
   "metadata": {},
   "outputs": [],
   "source": [
    "#Data Analysis"
   ]
  }
 ],
 "metadata": {
  "kernelspec": {
   "display_name": "base",
   "language": "python",
   "name": "python3"
  },
  "language_info": {
   "name": "python",
   "version": "3.9.13"
  },
  "orig_nbformat": 4,
  "vscode": {
   "interpreter": {
    "hash": "a62fd136276fed91f6bd43fed7357d0a16a5b27a1b0724ce6c7fbeb3eb3270d7"
   }
  }
 },
 "nbformat": 4,
 "nbformat_minor": 2
}
